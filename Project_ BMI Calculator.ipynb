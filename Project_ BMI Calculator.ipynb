{
 "cells": [
  {
   "cell_type": "markdown",
   "id": "a074cb54",
   "metadata": {},
   "source": [
    "# Project: BMI calculator"
   ]
  },
  {
   "cell_type": "code",
   "execution_count": 1,
   "id": "4ef5ccef",
   "metadata": {},
   "outputs": [
    {
     "name": "stdout",
     "output_type": "stream",
     "text": [
      "Enter your name: Stefania\n",
      "Enter your weight in kg: 45\n",
      "Enter your height in m: 1.58\n",
      "18.02595737862522\n",
      "Stefania, you are underweight.\n"
     ]
    }
   ],
   "source": [
    "name = input('Enter your name: ')\n",
    "\n",
    "weight = int(input('Enter your weight in kg: '))\n",
    "\n",
    "height = float(input('Enter your height in m: '))\n",
    "\n",
    "BMI = weight / (height * height)\n",
    "print (BMI)\n",
    "\n",
    "if BMI>0: \n",
    "    if (BMI<18.5):\n",
    "        print(name + ', you are underweight.')\n",
    "    elif (BMI<=24.9):\n",
    "        print(name + ', you are normalweight.')\n",
    "    elif (BMI<29.9):\n",
    "        print(name + ', you are overweight.')\n",
    "    elif (BMI<34.9):\n",
    "        print(name + ', you are obese.')\n",
    "    elif (BMI<39.9):\n",
    "        print(name + ', you are severely obese.')\n",
    "    else: \n",
    "        print(name + ', you are morbidly obese')\n",
    "else:\n",
    "    print('Enter valid input')"
   ]
  },
  {
   "cell_type": "code",
   "execution_count": null,
   "id": "62adc89b",
   "metadata": {},
   "outputs": [],
   "source": []
  }
 ],
 "metadata": {
  "kernelspec": {
   "display_name": "Python 3 (ipykernel)",
   "language": "python",
   "name": "python3"
  },
  "language_info": {
   "codemirror_mode": {
    "name": "ipython",
    "version": 3
   },
   "file_extension": ".py",
   "mimetype": "text/x-python",
   "name": "python",
   "nbconvert_exporter": "python",
   "pygments_lexer": "ipython3",
   "version": "3.11.3"
  }
 },
 "nbformat": 4,
 "nbformat_minor": 5
}
