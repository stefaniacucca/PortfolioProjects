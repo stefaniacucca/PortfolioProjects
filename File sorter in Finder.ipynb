{
 "cells": [
  {
   "cell_type": "markdown",
   "id": "601aabda",
   "metadata": {},
   "source": [
    "# Automatic File Sorter in Finder"
   ]
  },
  {
   "cell_type": "code",
   "execution_count": 1,
   "id": "623929e8",
   "metadata": {},
   "outputs": [],
   "source": [
    "import os, shutil"
   ]
  },
  {
   "cell_type": "code",
   "execution_count": null,
   "id": "2f9c9fc3",
   "metadata": {},
   "outputs": [],
   "source": [
    "#find the folder"
   ]
  },
  {
   "cell_type": "code",
   "execution_count": 19,
   "id": "85a8268c",
   "metadata": {},
   "outputs": [],
   "source": [
    "path = r\"/Users/stefaniacucca/Desktop/Foto Erasmus/Febbraio/\""
   ]
  },
  {
   "cell_type": "code",
   "execution_count": null,
   "id": "78863586",
   "metadata": {},
   "outputs": [],
   "source": [
    "#list the files in the folder"
   ]
  },
  {
   "cell_type": "code",
   "execution_count": 18,
   "id": "17e91d72",
   "metadata": {},
   "outputs": [
    {
     "data": {
      "text/plain": [
       "['IMG_20230211_125215.jpeg',\n",
       " 'WhatsApp Image 2023-02-10 at 14.59.34.jpeg',\n",
       " 'IMG_20230212_105428_193.webp',\n",
       " 'IMG_20230205_003914.jpeg',\n",
       " 'Screenshot_2023-06-30-20-00-47-544_com.bereal.ft.jpg',\n",
       " '061387B2-D8F7-4E5F-A498-85A6DFC9970F.jpeg',\n",
       " 'IMG_20230214_143236.jpeg',\n",
       " 'IMG_20230211_181939.jpeg',\n",
       " 'WhatsApp Image 2023-06-17 at 16.52.01.jpeg',\n",
       " 'IMG_20230203_123507.jpeg',\n",
       " 'IMG_20230211_152349.jpeg',\n",
       " 'Screenshot_2023-02-08-23-35-51-866_com.instagram.android.jpg',\n",
       " 'DSC_0193.jpeg',\n",
       " 'IMG_20230218_014200.jpeg',\n",
       " 'IMG_20230212_190524.jpeg',\n",
       " '.DS_Store',\n",
       " 'IMG_20230214_144024.jpeg',\n",
       " 'IMG-20230305-WA0060.jpeg',\n",
       " 'IMG_20230215_182218.jpeg',\n",
       " 'Screenshot_2023-02-24-21-08-38-274_com.bereal.ft.jpg',\n",
       " 'WhatsApp Image 2023-02-13 at 15.39.03.jpeg',\n",
       " 'IMG_20230213_142151.jpeg',\n",
       " 'IMG_20230212_194402.jpeg',\n",
       " 'IMG_20230216_184516_665.webp',\n",
       " 'IMG_20230211_182532.jpeg',\n",
       " 'IMG_20230214_131407.jpeg',\n",
       " 'IMG_20230213_152038.jpeg',\n",
       " 'IMG_20230213_125636.jpeg',\n",
       " 'IMG_20230220_023237.jpeg',\n",
       " 'IMG_20230226_180909.jpeg',\n",
       " 'owid-covid-data.csv',\n",
       " 'IMG_20230216_112821.jpeg',\n",
       " 'IMG_20230213_224811_174.webp',\n",
       " 'IMG_20230222_170112.jpeg',\n",
       " 'IMG_20230222_170152.jpeg',\n",
       " 'IMG_20230213_184724.jpeg',\n",
       " 'IMG_20230211_124317.jpeg',\n",
       " 'IMG_20230209_225050_461.jpeg',\n",
       " 'IMG_20230221_013703.jpeg',\n",
       " 'IMG_20230214_125301.jpeg',\n",
       " 'Screenshot_2023-02-06-22-34-25-806_com.bereal.ft.jpg',\n",
       " 'IMG_20230215_161154_488.webp',\n",
       " 'IMG_20230212_214842.jpeg',\n",
       " 'IMG_20230212_180328.jpeg',\n",
       " 'IMG_20230215_132814.jpeg',\n",
       " 'IMG_20230203_201520.jpeg',\n",
       " 'IMG_20230215_151320_807.webp',\n",
       " 'IMG_20230213_113037_751.webp',\n",
       " 'WhatsApp Image 2023-02-08 at 16.30.27.jpeg',\n",
       " 'IMG_20230211_194045.jpeg',\n",
       " 'IMG_20230212_204458.jpeg',\n",
       " 'IMG_20230203_235950.jpeg',\n",
       " 'IMG_20230214_180803.jpeg',\n",
       " 'IMG_20230211_164951.jpeg',\n",
       " 'IMG_20230210_113222.jpeg',\n",
       " 'IMG_20230216_112815.jpeg',\n",
       " 'IMG_20230222_143410.jpeg',\n",
       " 'IMG_20230211_132130.jpeg',\n",
       " 'IMG_20230204_000246.jpeg',\n",
       " 'IMG_20230211_134139.jpeg',\n",
       " 'IMG_20230215_113350.jpeg',\n",
       " 'IMG_20230211_133613.jpeg',\n",
       " 'WhatsApp Image 2023-02-10 at 19.30.37.jpeg',\n",
       " 'IMG_20230208_173237.jpeg',\n",
       " 'IMG_20230205_002946.jpeg',\n",
       " 'IMG_20230213_185321.jpeg',\n",
       " 'IMG_20230201_114107.jpeg',\n",
       " 'IMG_20230211_133054.jpeg',\n",
       " 'IMG_20230225_183228_423.webp',\n",
       " 'IMG_20230221_001706.jpeg',\n",
       " 'IMG_20230214_172348.jpeg',\n",
       " 'WhatsApp Image 2023-02-10 at 14.59.31.jpeg',\n",
       " 'IMG_20230214_125006.jpeg',\n",
       " 'Screenshot_2023-06-30-20-02-02-053_com.bereal.ft.jpg',\n",
       " 'IMG_20230203_210542.jpeg',\n",
       " 'IMG-20230210-WA0102.jpeg',\n",
       " 'WhatsApp Image 2023-02-21 at 03.07.02.jpeg',\n",
       " 'WhatsApp Image 2023-06-07 at 23.59.12.jpeg',\n",
       " 'IMG_20230213_124950.jpeg',\n",
       " 'IMG_20230212_115117.jpeg',\n",
       " 'IMG_20230214_154344.jpeg',\n",
       " 'IMG_20230211_155539.jpeg',\n",
       " 'IMG_20230214_180336.jpeg',\n",
       " 'IMG_20230210_112019.jpeg',\n",
       " 'IMG_20230211_125436.jpeg',\n",
       " 'IMG_20230211_194544.jpeg',\n",
       " 'D9634CD3-4096-4F59-97CB-0520A1F2ABC8.jpeg',\n",
       " 'IMG_20230220_234819.jpeg',\n",
       " 'IMG_20230216_110025.jpeg',\n",
       " 'IMG_20230213_185034.jpeg',\n",
       " 'IMG_20230204_234536.jpeg',\n",
       " 'IMG_20230212_180950.jpeg',\n",
       " 'IMG_20230214_164624.jpeg',\n",
       " 'Screenshot_2023-02-21-19-29-54-229_com.bereal.ft.jpg',\n",
       " 'IMG_20230212_180907.jpeg',\n",
       " 'IMG_20230213_142938.jpeg',\n",
       " 'IMG_20230213_123102_925.webp',\n",
       " 'IMG_20230216_104247.jpeg',\n",
       " 'IMG_20230213_134408.jpeg',\n",
       " 'IMG_20230205_010009.jpeg',\n",
       " 'IMG_20230213_195151.jpeg',\n",
       " 'B491BDE2-2430-43D1-B360-2EA563C17437.jpeg',\n",
       " 'Screenshot_2023-06-30-20-00-55-656_com.bereal.ft.jpg',\n",
       " 'IMG_20230215_113121.jpeg',\n",
       " '972CFAD9-6A41-4604-B833-D1849AB08825.jpeg',\n",
       " 'IMG_20230214_132927.jpeg',\n",
       " '20230212_184658.jpeg',\n",
       " 'IMG_20230221_011059.jpeg',\n",
       " 'IMG_20230215_182220.jpeg',\n",
       " 'IMG_20230215_142909.jpeg',\n",
       " '0464C212-FE23-4BFD-A708-9A62CAAC270A.jpeg',\n",
       " 'WhatsApp Image 2023-02-10 at 14.59.37.jpeg',\n",
       " 'IMG_20230203_165344.jpeg',\n",
       " 'IMG_20230213_182748.jpeg',\n",
       " 'IMG_20230215_112454.jpeg',\n",
       " 'IMG_20230214_130238.jpeg']"
      ]
     },
     "execution_count": 18,
     "metadata": {},
     "output_type": "execute_result"
    }
   ],
   "source": [
    "os.listdir(path)"
   ]
  },
  {
   "cell_type": "code",
   "execution_count": null,
   "id": "6a613512",
   "metadata": {},
   "outputs": [],
   "source": [
    "#does this path already exist?"
   ]
  },
  {
   "cell_type": "code",
   "execution_count": 17,
   "id": "7f786cf9",
   "metadata": {},
   "outputs": [
    {
     "data": {
      "text/plain": [
       "False"
      ]
     },
     "execution_count": 17,
     "metadata": {},
     "output_type": "execute_result"
    }
   ],
   "source": [
    "os.path.exists(path + 'csv files')"
   ]
  },
  {
   "cell_type": "code",
   "execution_count": null,
   "id": "df401b9a",
   "metadata": {},
   "outputs": [],
   "source": [
    "#we need to create three different paths: put them in a list and loop through it\n",
    "#range: count from 0 to 3, our new folders"
   ]
  },
  {
   "cell_type": "code",
   "execution_count": 46,
   "id": "b4904320",
   "metadata": {},
   "outputs": [],
   "source": [
    "folder_names = ['csv files','image files','text files']\n",
    "\n",
    "for loop in range(0,3):\n",
    "    os.path.exists(path + folder_names[loop])"
   ]
  },
  {
   "cell_type": "code",
   "execution_count": null,
   "id": "dc8e77c3",
   "metadata": {},
   "outputs": [],
   "source": [
    "#if the path does not exist, we can create it with os.makedirs!"
   ]
  },
  {
   "cell_type": "code",
   "execution_count": 47,
   "id": "9577f6a7",
   "metadata": {},
   "outputs": [
    {
     "name": "stdout",
     "output_type": "stream",
     "text": [
      "/Users/stefaniacucca/Desktop/Foto Erasmus/Febbraio/text files\n"
     ]
    }
   ],
   "source": [
    "folder_names = ['csv files','image files','text files']\n",
    "\n",
    "for loop in range(0,3):\n",
    "    if not os.path.exists(path + folder_names[loop]):\n",
    "        print(path + folder_names[loop])\n",
    "        os.makedirs(path + folder_names[loop])\n",
    "        "
   ]
  },
  {
   "cell_type": "code",
   "execution_count": null,
   "id": "44de06c0",
   "metadata": {},
   "outputs": [],
   "source": [
    "#check which kind of file are present and place the files in the correct folder\n",
    "#with the loop it's going to check\n",
    "#if the csv is in the list of the actual files (file_name), if we find csv in any of the files \n",
    "#and it's not already in path + 'csv files/' + file\n",
    "#then move the file from the initial original path to the new path"
   ]
  },
  {
   "cell_type": "code",
   "execution_count": 48,
   "id": "7e94ad9b",
   "metadata": {},
   "outputs": [],
   "source": [
    "file_name = os.listdir(path)"
   ]
  },
  {
   "cell_type": "code",
   "execution_count": 45,
   "id": "1e571b01",
   "metadata": {},
   "outputs": [],
   "source": [
    "for file in file_name:\n",
    "    if '.csv' in file and not os.path.exists(path + 'csv files/' + file):\n",
    "        shutil.move(path + file , path + 'csv files/' + file)"
   ]
  },
  {
   "cell_type": "code",
   "execution_count": 53,
   "id": "64b4f0d2",
   "metadata": {},
   "outputs": [],
   "source": [
    "#the csv file is gone! Recreate this for the image files and text file"
   ]
  },
  {
   "cell_type": "code",
   "execution_count": 52,
   "id": "af65d3ce",
   "metadata": {},
   "outputs": [
    {
     "name": "stdout",
     "output_type": "stream",
     "text": [
      "There are files in this path that were not moved\n",
      "There are files in this path that were not moved\n",
      "There are files in this path that were not moved\n",
      "There are files in this path that were not moved\n",
      "There are files in this path that were not moved\n",
      "There are files in this path that were not moved\n",
      "There are files in this path that were not moved\n",
      "There are files in this path that were not moved\n",
      "There are files in this path that were not moved\n",
      "There are files in this path that were not moved\n",
      "There are files in this path that were not moved\n",
      "There are files in this path that were not moved\n",
      "There are files in this path that were not moved\n",
      "There are files in this path that were not moved\n",
      "There are files in this path that were not moved\n",
      "There are files in this path that were not moved\n",
      "There are files in this path that were not moved\n",
      "There are files in this path that were not moved\n",
      "There are files in this path that were not moved\n",
      "There are files in this path that were not moved\n",
      "There are files in this path that were not moved\n",
      "There are files in this path that were not moved\n",
      "There are files in this path that were not moved\n",
      "There are files in this path that were not moved\n",
      "There are files in this path that were not moved\n",
      "There are files in this path that were not moved\n",
      "There are files in this path that were not moved\n",
      "There are files in this path that were not moved\n",
      "There are files in this path that were not moved\n",
      "There are files in this path that were not moved\n",
      "There are files in this path that were not moved\n",
      "There are files in this path that were not moved\n",
      "There are files in this path that were not moved\n",
      "There are files in this path that were not moved\n",
      "There are files in this path that were not moved\n",
      "There are files in this path that were not moved\n",
      "There are files in this path that were not moved\n",
      "There are files in this path that were not moved\n",
      "There are files in this path that were not moved\n",
      "There are files in this path that were not moved\n",
      "There are files in this path that were not moved\n",
      "There are files in this path that were not moved\n",
      "There are files in this path that were not moved\n",
      "There are files in this path that were not moved\n",
      "There are files in this path that were not moved\n",
      "There are files in this path that were not moved\n",
      "There are files in this path that were not moved\n",
      "There are files in this path that were not moved\n",
      "There are files in this path that were not moved\n",
      "There are files in this path that were not moved\n",
      "There are files in this path that were not moved\n",
      "There are files in this path that were not moved\n",
      "There are files in this path that were not moved\n",
      "There are files in this path that were not moved\n",
      "There are files in this path that were not moved\n",
      "There are files in this path that were not moved\n",
      "There are files in this path that were not moved\n",
      "There are files in this path that were not moved\n",
      "There are files in this path that were not moved\n",
      "There are files in this path that were not moved\n",
      "There are files in this path that were not moved\n",
      "There are files in this path that were not moved\n",
      "There are files in this path that were not moved\n",
      "There are files in this path that were not moved\n",
      "There are files in this path that were not moved\n",
      "There are files in this path that were not moved\n",
      "There are files in this path that were not moved\n",
      "There are files in this path that were not moved\n",
      "There are files in this path that were not moved\n",
      "There are files in this path that were not moved\n",
      "There are files in this path that were not moved\n",
      "There are files in this path that were not moved\n",
      "There are files in this path that were not moved\n",
      "There are files in this path that were not moved\n",
      "There are files in this path that were not moved\n",
      "There are files in this path that were not moved\n",
      "There are files in this path that were not moved\n",
      "There are files in this path that were not moved\n",
      "There are files in this path that were not moved\n",
      "There are files in this path that were not moved\n",
      "There are files in this path that were not moved\n",
      "There are files in this path that were not moved\n",
      "There are files in this path that were not moved\n",
      "There are files in this path that were not moved\n",
      "There are files in this path that were not moved\n",
      "There are files in this path that were not moved\n",
      "There are files in this path that were not moved\n",
      "There are files in this path that were not moved\n",
      "There are files in this path that were not moved\n",
      "There are files in this path that were not moved\n",
      "There are files in this path that were not moved\n",
      "There are files in this path that were not moved\n",
      "There are files in this path that were not moved\n",
      "There are files in this path that were not moved\n",
      "There are files in this path that were not moved\n",
      "There are files in this path that were not moved\n",
      "There are files in this path that were not moved\n",
      "There are files in this path that were not moved\n",
      "There are files in this path that were not moved\n",
      "There are files in this path that were not moved\n",
      "There are files in this path that were not moved\n",
      "There are files in this path that were not moved\n",
      "There are files in this path that were not moved\n",
      "There are files in this path that were not moved\n",
      "There are files in this path that were not moved\n",
      "There are files in this path that were not moved\n",
      "There are files in this path that were not moved\n",
      "There are files in this path that were not moved\n",
      "There are files in this path that were not moved\n",
      "There are files in this path that were not moved\n",
      "There are files in this path that were not moved\n",
      "There are files in this path that were not moved\n",
      "There are files in this path that were not moved\n",
      "There are files in this path that were not moved\n",
      "There are files in this path that were not moved\n",
      "There are files in this path that were not moved\n",
      "There are files in this path that were not moved\n",
      "There are files in this path that were not moved\n"
     ]
    }
   ],
   "source": [
    "for file in file_name:\n",
    "    if '.csv' in file and not os.path.exists(path + 'csv files/' + file):\n",
    "        shutil.move(path + file , path + 'csv files/' + file)\n",
    "    elif '.jpeg' in file and not os.path.exists(path + 'image files/' + file):\n",
    "        shutil.move(path + file , path + 'image files/' + file)\n",
    "    elif '.docx' in file and not os.path.exists(path + 'text files/' + file):\n",
    "        shutil.move(path + file , path + 'text files/' + file)\n",
    "    else:\n",
    "        print('There are files in this path that were not moved')"
   ]
  },
  {
   "cell_type": "code",
   "execution_count": null,
   "id": "4e997ecf",
   "metadata": {},
   "outputs": [],
   "source": []
  },
  {
   "cell_type": "code",
   "execution_count": null,
   "id": "cafa889f",
   "metadata": {},
   "outputs": [],
   "source": []
  },
  {
   "cell_type": "code",
   "execution_count": null,
   "id": "1ac67994",
   "metadata": {},
   "outputs": [],
   "source": []
  },
  {
   "cell_type": "code",
   "execution_count": null,
   "id": "20f8350b",
   "metadata": {},
   "outputs": [],
   "source": []
  },
  {
   "cell_type": "code",
   "execution_count": null,
   "id": "0feb6093",
   "metadata": {},
   "outputs": [],
   "source": []
  }
 ],
 "metadata": {
  "kernelspec": {
   "display_name": "Python 3 (ipykernel)",
   "language": "python",
   "name": "python3"
  },
  "language_info": {
   "codemirror_mode": {
    "name": "ipython",
    "version": 3
   },
   "file_extension": ".py",
   "mimetype": "text/x-python",
   "name": "python",
   "nbconvert_exporter": "python",
   "pygments_lexer": "ipython3",
   "version": "3.11.3"
  }
 },
 "nbformat": 4,
 "nbformat_minor": 5
}
